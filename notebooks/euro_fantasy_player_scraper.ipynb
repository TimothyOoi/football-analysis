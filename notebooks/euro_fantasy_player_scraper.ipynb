{
 "cells": [
  {
   "cell_type": "markdown",
   "metadata": {},
   "source": [
    "# Euro Fantasy Player Data\n",
    "Aim: Create a player data in csv format from the HTML of [Euro 2024 Fantasy](https://gaming.uefa.com/en/eurofantasy/create-team). The relevant HTML parts were extracted into a separate file under the `data/raw` directory."
   ]
  },
  {
   "cell_type": "code",
   "execution_count": 3,
   "metadata": {},
   "outputs": [],
   "source": [
    "from bs4 import BeautifulSoup\n",
    "import re\n",
    "import pandas as pd\n",
    "from pathlib import Path"
   ]
  },
  {
   "cell_type": "markdown",
   "metadata": {},
   "source": [
    "## Parse HTML\n",
    "\n",
    "references:\n",
    "- https://stackoverflow.com/questions/42038130/beautifulsoup-nested-class-selector\n",
    "- https://www.crummy.com/software/BeautifulSoup/bs4/doc/#searching-by-css-class"
   ]
  },
  {
   "cell_type": "code",
   "execution_count": 4,
   "metadata": {},
   "outputs": [],
   "source": [
    "# read the extracted html\n",
    "with open(\"../data/raw/euro_fantasy_players_table.html\", \"r\", encoding=\"utf-8\") as f:\n",
    "    raw_html = f.read()"
   ]
  },
  {
   "cell_type": "code",
   "execution_count": 5,
   "metadata": {},
   "outputs": [],
   "source": [
    "# parse the html using BeautifulSoup\n",
    "soup = BeautifulSoup(raw_html, \"html.parser\")"
   ]
  },
  {
   "cell_type": "code",
   "execution_count": 6,
   "metadata": {},
   "outputs": [],
   "source": [
    "# parse header\n",
    "header_lft = [x.text for x in soup.select(\".si-plist__row--title .si-plist__lft .si-plist__col\")]\n",
    "header_rgt = [x.text for x in soup.select(\".si-plist__row--title .si-plist__rgt .si-plist__col span\")]\n",
    "header_row = header_lft + header_rgt + [\"img_url\"]\n",
    "\n",
    "\n",
    "# NOTE: below does not work\n",
    "# temp = soup.find(class_=\"si-plist__row--title\").find(class_=re.compile(\"si-plist__(lft|rgt)\")).find_all(class_=\"si-plist__col\")\n",
    "# [x.get_text().strip(\"\\n\") for x in temp]"
   ]
  },
  {
   "cell_type": "code",
   "execution_count": 7,
   "metadata": {},
   "outputs": [
    {
     "name": "stdout",
     "output_type": "stream",
     "text": [
      "['Players', 'Price', 'Total pts', 'Selected', 'MD pts', 'Pts per €', 'Pts per MD', 'PotM pts', 'Goals', 'Assists', 'Balls recovered', 'Clean sheets', 'Red cards', 'Yellow cards', 'Mins played', 'Trans in', 'Trans out', 'img_url']\n"
     ]
    }
   ],
   "source": [
    "print(header_row)"
   ]
  },
  {
   "cell_type": "code",
   "execution_count": 8,
   "metadata": {},
   "outputs": [],
   "source": [
    "def parse_raw_body_row(str):\n",
    "    # [x.get_text().strip(\"\\n\") for x in str.select(\".si-plist__col\")] # simple\n",
    "    res = []\n",
    "\n",
    "    for col in str.select(\".si-plist__col\"):\n",
    "        curr_val = col.get_text().strip(\"\\n\")\n",
    "        if curr_val != \"\":\n",
    "            res.append(curr_val)\n",
    "        \n",
    "        # try to get the thumbnail image src\n",
    "        if \"si-list-img\" in col.attrs.get(\"class\"):\n",
    "            img_path = col.select(\"img\")[0].attrs.get(\"src\")\n",
    "    \n",
    "    res.append(img_path) # image path as last col\n",
    "    return res\n",
    "\n",
    "\n",
    "raw_body_rows = soup.select(\".si-plist__body .si-plist__row\") # parse body get all rows in body\n",
    "body_rows = [parse_raw_body_row(x) for x in raw_body_rows] # get text value for each column"
   ]
  },
  {
   "cell_type": "code",
   "execution_count": 9,
   "metadata": {},
   "outputs": [
    {
     "name": "stdout",
     "output_type": "stream",
     "text": [
      "['K. Mbappé\\nAUT v FRA', '€11m\\nFWD', '0', '76 %', '0', '0', '0', '0', '0', '0', '0', '0', '0', '0', '0', '9715', '2632', 'https://img.uefa.com/imgml/TP/players/3/2024/324x324/250076574.jpg?v=0.05']\n"
     ]
    }
   ],
   "source": [
    "print(body_rows[0])"
   ]
  },
  {
   "cell_type": "markdown",
   "metadata": {},
   "source": [
    "the first 2 columns in the body rows contain other values, Next Match and Position respectively. We will handle this using `pandas`."
   ]
  },
  {
   "cell_type": "markdown",
   "metadata": {},
   "source": [
    "# Create dataframe"
   ]
  },
  {
   "cell_type": "code",
   "execution_count": 10,
   "metadata": {},
   "outputs": [
    {
     "data": {
      "text/html": [
       "<div>\n",
       "<style scoped>\n",
       "    .dataframe tbody tr th:only-of-type {\n",
       "        vertical-align: middle;\n",
       "    }\n",
       "\n",
       "    .dataframe tbody tr th {\n",
       "        vertical-align: top;\n",
       "    }\n",
       "\n",
       "    .dataframe thead th {\n",
       "        text-align: right;\n",
       "    }\n",
       "</style>\n",
       "<table border=\"1\" class=\"dataframe\">\n",
       "  <thead>\n",
       "    <tr style=\"text-align: right;\">\n",
       "      <th></th>\n",
       "      <th>Players</th>\n",
       "      <th>Price</th>\n",
       "      <th>Total pts</th>\n",
       "      <th>Selected</th>\n",
       "      <th>MD pts</th>\n",
       "      <th>Pts per €</th>\n",
       "      <th>Pts per MD</th>\n",
       "      <th>PotM pts</th>\n",
       "      <th>Goals</th>\n",
       "      <th>Assists</th>\n",
       "      <th>Balls recovered</th>\n",
       "      <th>Clean sheets</th>\n",
       "      <th>Red cards</th>\n",
       "      <th>Yellow cards</th>\n",
       "      <th>Mins played</th>\n",
       "      <th>Trans in</th>\n",
       "      <th>Trans out</th>\n",
       "      <th>img_url</th>\n",
       "    </tr>\n",
       "  </thead>\n",
       "  <tbody>\n",
       "    <tr>\n",
       "      <th>0</th>\n",
       "      <td>K. Mbappé\\nAUT v FRA</td>\n",
       "      <td>€11m\\nFWD</td>\n",
       "      <td>0</td>\n",
       "      <td>76 %</td>\n",
       "      <td>0</td>\n",
       "      <td>0</td>\n",
       "      <td>0</td>\n",
       "      <td>0</td>\n",
       "      <td>0</td>\n",
       "      <td>0</td>\n",
       "      <td>0</td>\n",
       "      <td>0</td>\n",
       "      <td>0</td>\n",
       "      <td>0</td>\n",
       "      <td>0</td>\n",
       "      <td>9715</td>\n",
       "      <td>2632</td>\n",
       "      <td>https://img.uefa.com/imgml/TP/players/3/2024/3...</td>\n",
       "    </tr>\n",
       "    <tr>\n",
       "      <th>1</th>\n",
       "      <td>H. Kane\\nSRB v ENG</td>\n",
       "      <td>€11m\\nFWD</td>\n",
       "      <td>0</td>\n",
       "      <td>49 %</td>\n",
       "      <td>0</td>\n",
       "      <td>0</td>\n",
       "      <td>0</td>\n",
       "      <td>0</td>\n",
       "      <td>0</td>\n",
       "      <td>0</td>\n",
       "      <td>0</td>\n",
       "      <td>0</td>\n",
       "      <td>0</td>\n",
       "      <td>0</td>\n",
       "      <td>0</td>\n",
       "      <td>10142</td>\n",
       "      <td>4501</td>\n",
       "      <td>https://img.uefa.com/imgml/TP/players/3/2024/3...</td>\n",
       "    </tr>\n",
       "    <tr>\n",
       "      <th>2</th>\n",
       "      <td>C. Ronaldo\\nPOR v CZE</td>\n",
       "      <td>€10m\\nFWD</td>\n",
       "      <td>0</td>\n",
       "      <td>15 %</td>\n",
       "      <td>0</td>\n",
       "      <td>0</td>\n",
       "      <td>0</td>\n",
       "      <td>0</td>\n",
       "      <td>0</td>\n",
       "      <td>0</td>\n",
       "      <td>0</td>\n",
       "      <td>0</td>\n",
       "      <td>0</td>\n",
       "      <td>0</td>\n",
       "      <td>0</td>\n",
       "      <td>3962</td>\n",
       "      <td>5013</td>\n",
       "      <td>https://img.uefa.com/imgml/TP/players/3/2024/3...</td>\n",
       "    </tr>\n",
       "    <tr>\n",
       "      <th>3</th>\n",
       "      <td>J. Bellingham\\nSRB v ENG</td>\n",
       "      <td>€9.5m\\nMID</td>\n",
       "      <td>0</td>\n",
       "      <td>50 %</td>\n",
       "      <td>0</td>\n",
       "      <td>0</td>\n",
       "      <td>0</td>\n",
       "      <td>0</td>\n",
       "      <td>0</td>\n",
       "      <td>0</td>\n",
       "      <td>0</td>\n",
       "      <td>0</td>\n",
       "      <td>0</td>\n",
       "      <td>0</td>\n",
       "      <td>0</td>\n",
       "      <td>7235</td>\n",
       "      <td>6766</td>\n",
       "      <td>https://gaming.uefa.com/en/eurofantasy/static-...</td>\n",
       "    </tr>\n",
       "    <tr>\n",
       "      <th>4</th>\n",
       "      <td>K. De Bruyne\\nBEL v SVK</td>\n",
       "      <td>€9.5m\\nMID</td>\n",
       "      <td>0</td>\n",
       "      <td>21 %</td>\n",
       "      <td>0</td>\n",
       "      <td>0</td>\n",
       "      <td>0</td>\n",
       "      <td>0</td>\n",
       "      <td>0</td>\n",
       "      <td>0</td>\n",
       "      <td>0</td>\n",
       "      <td>0</td>\n",
       "      <td>0</td>\n",
       "      <td>0</td>\n",
       "      <td>0</td>\n",
       "      <td>5474</td>\n",
       "      <td>6343</td>\n",
       "      <td>https://gaming.uefa.com/en/eurofantasy/static-...</td>\n",
       "    </tr>\n",
       "  </tbody>\n",
       "</table>\n",
       "</div>"
      ],
      "text/plain": [
       "                    Players       Price Total pts Selected MD pts Pts per €  \\\n",
       "0      K. Mbappé\\nAUT v FRA   €11m\\nFWD         0     76 %      0         0   \n",
       "1        H. Kane\\nSRB v ENG   €11m\\nFWD         0     49 %      0         0   \n",
       "2     C. Ronaldo\\nPOR v CZE   €10m\\nFWD         0     15 %      0         0   \n",
       "3  J. Bellingham\\nSRB v ENG  €9.5m\\nMID         0     50 %      0         0   \n",
       "4   K. De Bruyne\\nBEL v SVK  €9.5m\\nMID         0     21 %      0         0   \n",
       "\n",
       "  Pts per MD PotM pts Goals Assists Balls recovered Clean sheets Red cards  \\\n",
       "0          0        0     0       0               0            0         0   \n",
       "1          0        0     0       0               0            0         0   \n",
       "2          0        0     0       0               0            0         0   \n",
       "3          0        0     0       0               0            0         0   \n",
       "4          0        0     0       0               0            0         0   \n",
       "\n",
       "  Yellow cards Mins played Trans in Trans out  \\\n",
       "0            0           0     9715      2632   \n",
       "1            0           0    10142      4501   \n",
       "2            0           0     3962      5013   \n",
       "3            0           0     7235      6766   \n",
       "4            0           0     5474      6343   \n",
       "\n",
       "                                             img_url  \n",
       "0  https://img.uefa.com/imgml/TP/players/3/2024/3...  \n",
       "1  https://img.uefa.com/imgml/TP/players/3/2024/3...  \n",
       "2  https://img.uefa.com/imgml/TP/players/3/2024/3...  \n",
       "3  https://gaming.uefa.com/en/eurofantasy/static-...  \n",
       "4  https://gaming.uefa.com/en/eurofantasy/static-...  "
      ]
     },
     "execution_count": 10,
     "metadata": {},
     "output_type": "execute_result"
    }
   ],
   "source": [
    "df = pd.DataFrame(body_rows, columns=header_row)\n",
    "df.head()"
   ]
  },
  {
   "cell_type": "code",
   "execution_count": 11,
   "metadata": {},
   "outputs": [],
   "source": [
    "df[['Players', 'Next Match']] = df['Players'].str.split('\\n', expand=True)\n",
    "df[['Price', 'Position']] = df['Price'].str.split('\\n', expand=True)\n",
    "\n",
    "df['Price'] = df['Price'].apply(lambda x:x[1:-1]) # remove currency symbol so that we can convert to numeric type\n",
    "df['Selected'] = df['Selected'].apply(lambda x:x.replace(\"%\", \"\").strip()) # remove % symbol so that we can convert to numeric type"
   ]
  },
  {
   "cell_type": "code",
   "execution_count": 12,
   "metadata": {},
   "outputs": [
    {
     "data": {
      "text/html": [
       "<div>\n",
       "<style scoped>\n",
       "    .dataframe tbody tr th:only-of-type {\n",
       "        vertical-align: middle;\n",
       "    }\n",
       "\n",
       "    .dataframe tbody tr th {\n",
       "        vertical-align: top;\n",
       "    }\n",
       "\n",
       "    .dataframe thead th {\n",
       "        text-align: right;\n",
       "    }\n",
       "</style>\n",
       "<table border=\"1\" class=\"dataframe\">\n",
       "  <thead>\n",
       "    <tr style=\"text-align: right;\">\n",
       "      <th></th>\n",
       "      <th>Players</th>\n",
       "      <th>Price</th>\n",
       "      <th>Total pts</th>\n",
       "      <th>Selected</th>\n",
       "      <th>MD pts</th>\n",
       "      <th>Pts per €</th>\n",
       "      <th>Pts per MD</th>\n",
       "      <th>PotM pts</th>\n",
       "      <th>Goals</th>\n",
       "      <th>Assists</th>\n",
       "      <th>Balls recovered</th>\n",
       "      <th>Clean sheets</th>\n",
       "      <th>Red cards</th>\n",
       "      <th>Yellow cards</th>\n",
       "      <th>Mins played</th>\n",
       "      <th>Trans in</th>\n",
       "      <th>Trans out</th>\n",
       "      <th>img_url</th>\n",
       "      <th>Next Match</th>\n",
       "      <th>Position</th>\n",
       "    </tr>\n",
       "  </thead>\n",
       "  <tbody>\n",
       "    <tr>\n",
       "      <th>0</th>\n",
       "      <td>K. Mbappé</td>\n",
       "      <td>11</td>\n",
       "      <td>0</td>\n",
       "      <td>76</td>\n",
       "      <td>0</td>\n",
       "      <td>0</td>\n",
       "      <td>0</td>\n",
       "      <td>0</td>\n",
       "      <td>0</td>\n",
       "      <td>0</td>\n",
       "      <td>0</td>\n",
       "      <td>0</td>\n",
       "      <td>0</td>\n",
       "      <td>0</td>\n",
       "      <td>0</td>\n",
       "      <td>9715</td>\n",
       "      <td>2632</td>\n",
       "      <td>https://img.uefa.com/imgml/TP/players/3/2024/3...</td>\n",
       "      <td>AUT v FRA</td>\n",
       "      <td>FWD</td>\n",
       "    </tr>\n",
       "    <tr>\n",
       "      <th>1</th>\n",
       "      <td>H. Kane</td>\n",
       "      <td>11</td>\n",
       "      <td>0</td>\n",
       "      <td>49</td>\n",
       "      <td>0</td>\n",
       "      <td>0</td>\n",
       "      <td>0</td>\n",
       "      <td>0</td>\n",
       "      <td>0</td>\n",
       "      <td>0</td>\n",
       "      <td>0</td>\n",
       "      <td>0</td>\n",
       "      <td>0</td>\n",
       "      <td>0</td>\n",
       "      <td>0</td>\n",
       "      <td>10142</td>\n",
       "      <td>4501</td>\n",
       "      <td>https://img.uefa.com/imgml/TP/players/3/2024/3...</td>\n",
       "      <td>SRB v ENG</td>\n",
       "      <td>FWD</td>\n",
       "    </tr>\n",
       "    <tr>\n",
       "      <th>2</th>\n",
       "      <td>C. Ronaldo</td>\n",
       "      <td>10</td>\n",
       "      <td>0</td>\n",
       "      <td>15</td>\n",
       "      <td>0</td>\n",
       "      <td>0</td>\n",
       "      <td>0</td>\n",
       "      <td>0</td>\n",
       "      <td>0</td>\n",
       "      <td>0</td>\n",
       "      <td>0</td>\n",
       "      <td>0</td>\n",
       "      <td>0</td>\n",
       "      <td>0</td>\n",
       "      <td>0</td>\n",
       "      <td>3962</td>\n",
       "      <td>5013</td>\n",
       "      <td>https://img.uefa.com/imgml/TP/players/3/2024/3...</td>\n",
       "      <td>POR v CZE</td>\n",
       "      <td>FWD</td>\n",
       "    </tr>\n",
       "    <tr>\n",
       "      <th>3</th>\n",
       "      <td>J. Bellingham</td>\n",
       "      <td>9.5</td>\n",
       "      <td>0</td>\n",
       "      <td>50</td>\n",
       "      <td>0</td>\n",
       "      <td>0</td>\n",
       "      <td>0</td>\n",
       "      <td>0</td>\n",
       "      <td>0</td>\n",
       "      <td>0</td>\n",
       "      <td>0</td>\n",
       "      <td>0</td>\n",
       "      <td>0</td>\n",
       "      <td>0</td>\n",
       "      <td>0</td>\n",
       "      <td>7235</td>\n",
       "      <td>6766</td>\n",
       "      <td>https://gaming.uefa.com/en/eurofantasy/static-...</td>\n",
       "      <td>SRB v ENG</td>\n",
       "      <td>MID</td>\n",
       "    </tr>\n",
       "    <tr>\n",
       "      <th>4</th>\n",
       "      <td>K. De Bruyne</td>\n",
       "      <td>9.5</td>\n",
       "      <td>0</td>\n",
       "      <td>21</td>\n",
       "      <td>0</td>\n",
       "      <td>0</td>\n",
       "      <td>0</td>\n",
       "      <td>0</td>\n",
       "      <td>0</td>\n",
       "      <td>0</td>\n",
       "      <td>0</td>\n",
       "      <td>0</td>\n",
       "      <td>0</td>\n",
       "      <td>0</td>\n",
       "      <td>0</td>\n",
       "      <td>5474</td>\n",
       "      <td>6343</td>\n",
       "      <td>https://gaming.uefa.com/en/eurofantasy/static-...</td>\n",
       "      <td>BEL v SVK</td>\n",
       "      <td>MID</td>\n",
       "    </tr>\n",
       "  </tbody>\n",
       "</table>\n",
       "</div>"
      ],
      "text/plain": [
       "         Players Price Total pts Selected MD pts Pts per € Pts per MD  \\\n",
       "0      K. Mbappé    11         0       76      0         0          0   \n",
       "1        H. Kane    11         0       49      0         0          0   \n",
       "2     C. Ronaldo    10         0       15      0         0          0   \n",
       "3  J. Bellingham   9.5         0       50      0         0          0   \n",
       "4   K. De Bruyne   9.5         0       21      0         0          0   \n",
       "\n",
       "  PotM pts Goals Assists Balls recovered Clean sheets Red cards Yellow cards  \\\n",
       "0        0     0       0               0            0         0            0   \n",
       "1        0     0       0               0            0         0            0   \n",
       "2        0     0       0               0            0         0            0   \n",
       "3        0     0       0               0            0         0            0   \n",
       "4        0     0       0               0            0         0            0   \n",
       "\n",
       "  Mins played Trans in Trans out  \\\n",
       "0           0     9715      2632   \n",
       "1           0    10142      4501   \n",
       "2           0     3962      5013   \n",
       "3           0     7235      6766   \n",
       "4           0     5474      6343   \n",
       "\n",
       "                                             img_url Next Match Position  \n",
       "0  https://img.uefa.com/imgml/TP/players/3/2024/3...  AUT v FRA      FWD  \n",
       "1  https://img.uefa.com/imgml/TP/players/3/2024/3...  SRB v ENG      FWD  \n",
       "2  https://img.uefa.com/imgml/TP/players/3/2024/3...  POR v CZE      FWD  \n",
       "3  https://gaming.uefa.com/en/eurofantasy/static-...  SRB v ENG      MID  \n",
       "4  https://gaming.uefa.com/en/eurofantasy/static-...  BEL v SVK      MID  "
      ]
     },
     "execution_count": 12,
     "metadata": {},
     "output_type": "execute_result"
    }
   ],
   "source": [
    "df.head()"
   ]
  },
  {
   "cell_type": "code",
   "execution_count": 13,
   "metadata": {},
   "outputs": [
    {
     "name": "stdout",
     "output_type": "stream",
     "text": [
      "<class 'pandas.core.frame.DataFrame'>\n",
      "RangeIndex: 933 entries, 0 to 932\n",
      "Data columns (total 20 columns):\n",
      " #   Column           Non-Null Count  Dtype \n",
      "---  ------           --------------  ----- \n",
      " 0   Players          933 non-null    object\n",
      " 1   Price            933 non-null    object\n",
      " 2   Total pts        933 non-null    object\n",
      " 3   Selected         933 non-null    object\n",
      " 4   MD pts           933 non-null    object\n",
      " 5   Pts per €        933 non-null    object\n",
      " 6   Pts per MD       933 non-null    object\n",
      " 7   PotM pts         933 non-null    object\n",
      " 8   Goals            933 non-null    object\n",
      " 9   Assists          933 non-null    object\n",
      " 10  Balls recovered  933 non-null    object\n",
      " 11  Clean sheets     933 non-null    object\n",
      " 12  Red cards        933 non-null    object\n",
      " 13  Yellow cards     933 non-null    object\n",
      " 14  Mins played      933 non-null    object\n",
      " 15  Trans in         933 non-null    object\n",
      " 16  Trans out        933 non-null    object\n",
      " 17  img_url          933 non-null    object\n",
      " 18  Next Match       933 non-null    object\n",
      " 19  Position         933 non-null    object\n",
      "dtypes: object(20)\n",
      "memory usage: 145.9+ KB\n"
     ]
    }
   ],
   "source": [
    "df.info()"
   ]
  },
  {
   "cell_type": "code",
   "execution_count": 14,
   "metadata": {},
   "outputs": [],
   "source": [
    "# convert to numeric data type\n",
    "numeric_colnames = ['Price', 'Total pts', 'Selected', 'MD pts', 'Pts per €', 'Pts per MD', 'PotM pts', 'Goals', 'Assists', 'Balls recovered', 'Clean sheets', 'Red cards', 'Yellow cards', 'Mins played', 'Trans in', 'Trans out']\n",
    "df[numeric_colnames] = df[numeric_colnames].apply(pd.to_numeric, axis=1)"
   ]
  },
  {
   "cell_type": "code",
   "execution_count": 15,
   "metadata": {},
   "outputs": [
    {
     "name": "stdout",
     "output_type": "stream",
     "text": [
      "<class 'pandas.core.frame.DataFrame'>\n",
      "RangeIndex: 933 entries, 0 to 932\n",
      "Data columns (total 20 columns):\n",
      " #   Column           Non-Null Count  Dtype  \n",
      "---  ------           --------------  -----  \n",
      " 0   Players          933 non-null    object \n",
      " 1   Price            933 non-null    float64\n",
      " 2   Total pts        933 non-null    float64\n",
      " 3   Selected         933 non-null    float64\n",
      " 4   MD pts           933 non-null    float64\n",
      " 5   Pts per €        933 non-null    float64\n",
      " 6   Pts per MD       933 non-null    float64\n",
      " 7   PotM pts         933 non-null    float64\n",
      " 8   Goals            933 non-null    float64\n",
      " 9   Assists          933 non-null    float64\n",
      " 10  Balls recovered  933 non-null    float64\n",
      " 11  Clean sheets     933 non-null    float64\n",
      " 12  Red cards        933 non-null    float64\n",
      " 13  Yellow cards     933 non-null    float64\n",
      " 14  Mins played      933 non-null    float64\n",
      " 15  Trans in         933 non-null    float64\n",
      " 16  Trans out        933 non-null    float64\n",
      " 17  img_url          933 non-null    object \n",
      " 18  Next Match       933 non-null    object \n",
      " 19  Position         933 non-null    object \n",
      "dtypes: float64(16), object(4)\n",
      "memory usage: 145.9+ KB\n"
     ]
    }
   ],
   "source": [
    "df.info()"
   ]
  },
  {
   "cell_type": "code",
   "execution_count": 16,
   "metadata": {},
   "outputs": [],
   "source": [
    "output_path = Path(\"../data/clean\")"
   ]
  },
  {
   "cell_type": "code",
   "execution_count": 17,
   "metadata": {},
   "outputs": [
    {
     "data": {
      "text/plain": [
       "('..', 'data', 'clean')"
      ]
     },
     "execution_count": 17,
     "metadata": {},
     "output_type": "execute_result"
    }
   ],
   "source": [
    "# Path(output_path).is_dir()output\n",
    "output_path.parts"
   ]
  },
  {
   "cell_type": "code",
   "execution_count": 18,
   "metadata": {},
   "outputs": [
    {
     "data": {
      "text/plain": [
       "WindowsPath('d:/Users/Timothy/Projects/football-analysis/notebooks/../data/clean')"
      ]
     },
     "execution_count": 18,
     "metadata": {},
     "output_type": "execute_result"
    }
   ],
   "source": [
    "output_path.absolute()"
   ]
  },
  {
   "cell_type": "code",
   "execution_count": 19,
   "metadata": {},
   "outputs": [],
   "source": [
    "# create output path if it does not exist\n",
    "main_dir = Path.cwd().resolve().parents[0]\n",
    "out_path = main_dir / \"data\" / \"clean\"\n",
    "out_path.mkdir(parents=True, exist_ok=True)\n",
    "\n",
    "# save output\n",
    "target_path = out_path / \"euro_fantasy_players.csv\"\n",
    "df.to_csv(target_path, index=False)"
   ]
  }
 ],
 "metadata": {
  "kernelspec": {
   "display_name": ".venv",
   "language": "python",
   "name": "python3"
  },
  "language_info": {
   "codemirror_mode": {
    "name": "ipython",
    "version": 3
   },
   "file_extension": ".py",
   "mimetype": "text/x-python",
   "name": "python",
   "nbconvert_exporter": "python",
   "pygments_lexer": "ipython3",
   "version": "3.11.0"
  }
 },
 "nbformat": 4,
 "nbformat_minor": 2
}
