{
 "cells": [
  {
   "cell_type": "markdown",
   "metadata": {},
   "source": [
    "# Collecting Player Dataset\n",
    "In this notebook, we will\n",
    "1. web scrape player data from fbref.com\n",
    "2. Map Euro Fantasy Player list to FBRef player list"
   ]
  },
  {
   "cell_type": "markdown",
   "metadata": {},
   "source": [
    "## 1. Scraping player table from FBRef using BeautifulSoup"
   ]
  },
  {
   "cell_type": "code",
   "execution_count": 1,
   "metadata": {},
   "outputs": [],
   "source": [
    "from bs4 import BeautifulSoup\n",
    "import requests\n",
    "import re\n",
    "import pandas as pd\n",
    "import os\n",
    "from pathlib import Path\n",
    "\n",
    "# disable pandas warnings\n",
    "import warnings\n",
    "warnings.filterwarnings('ignore')"
   ]
  },
  {
   "cell_type": "code",
   "execution_count": 32,
   "metadata": {},
   "outputs": [],
   "source": [
    "def extract_player_data_from_p(player_tag):\n",
    "    \"\"\"\n",
    "    Extract player data from a p tag from fbref player page\n",
    "    \"\"\"\n",
    "    # get player name which is the text in a element\n",
    "    a_elem = player_tag.find('a')\n",
    "    player_name = a_elem.text\n",
    "    player_url = a_elem['href']\n",
    "\n",
    "    player_active = bool(a_elem.find_all('strong')) # player is active if name is bold\n",
    "\n",
    "    span_elem = player_tag.find('span') # try to get country in span element\n",
    "    if span_elem:\n",
    "        player_country = span_elem.text.upper()\n",
    "        \n",
    "        # get all text in the after the span element\n",
    "        text_after_span = player_tag.find_all(\"span\")[-1].next_sibling\n",
    "        player_info = text_after_span.get_text().lstrip(' \\xa0·').split('\\xa0· ')\n",
    "    else:\n",
    "        # no span element found, which means no country code\n",
    "        player_country = None\n",
    "        # just get all text in the p element after the player name\n",
    "        other_info = a_elem.next_sibling\n",
    "        player_info = other_info.get_text().strip().split('\\xa0· ')\n",
    "    player_info.extend([None] * (3 - len(player_info))) # ensure player_info is of length 3\n",
    "    \n",
    "    return player_name, player_country, player_url, player_active, *player_info"
   ]
  },
  {
   "cell_type": "code",
   "execution_count": 36,
   "metadata": {},
   "outputs": [],
   "source": [
    "def url_builder_player_name(keyword):\n",
    "    \"\"\" Return FBRef URL based on competition name\n",
    "    \"\"\"\n",
    "    if len(keyword) != 2:\n",
    "        raise ValueError(\"Keyword must be 2 characters long\")\n",
    "    \n",
    "    scheme_domain_language_str = \"https://fbref.com/en\"\n",
    "    url = f\"{scheme_domain_language_str}/players/{keyword}/\"\n",
    "    return url\n",
    "\n",
    "def get_player_by_part_of_name(keyword: str):\n",
    "    \"\"\"\n",
    "    Get player data by first two letters of their name (usually last name)\n",
    "    \"\"\"    \n",
    "    url = url_builder_player_name(keyword)\n",
    "    raw_html = requests.get(url).text\n",
    "    soup = BeautifulSoup(raw_html, \"html.parser\") # parse the html using BeautifulSoup\n",
    "    content = soup.find(\"div\", class_=\"section_content\", id=re.compile(\"div_*\")) # get the main content div\n",
    "    info_lst = [extract_player_data_from_p(row) for row in content.find_all(\"p\")] # extract player data from p tags\n",
    "\n",
    "    COLNAMES = ['Name', 'country_code_alpha2', 'url', 'Active', 'Years Played', 'Position', 'Clubs Played']\n",
    "    df = pd.DataFrame(info_lst, columns=COLNAMES)\n",
    "    return df"
   ]
  },
  {
   "cell_type": "markdown",
   "metadata": {},
   "source": [
    "Example usage"
   ]
  },
  {
   "cell_type": "code",
   "execution_count": 53,
   "metadata": {},
   "outputs": [
    {
     "data": {
      "text/html": [
       "<div>\n",
       "<style scoped>\n",
       "    .dataframe tbody tr th:only-of-type {\n",
       "        vertical-align: middle;\n",
       "    }\n",
       "\n",
       "    .dataframe tbody tr th {\n",
       "        vertical-align: top;\n",
       "    }\n",
       "\n",
       "    .dataframe thead th {\n",
       "        text-align: right;\n",
       "    }\n",
       "</style>\n",
       "<table border=\"1\" class=\"dataframe\">\n",
       "  <thead>\n",
       "    <tr style=\"text-align: right;\">\n",
       "      <th></th>\n",
       "      <th>Name</th>\n",
       "      <th>country_code_alpha2</th>\n",
       "      <th>url</th>\n",
       "      <th>Active</th>\n",
       "      <th>Years Played</th>\n",
       "      <th>Position</th>\n",
       "      <th>Clubs Played</th>\n",
       "    </tr>\n",
       "  </thead>\n",
       "  <tbody>\n",
       "    <tr>\n",
       "      <th>0</th>\n",
       "      <td>Joshua M'Bahia</td>\n",
       "      <td>CI</td>\n",
       "      <td>/en/players/f02067df/Joshua-MBahia</td>\n",
       "      <td>True</td>\n",
       "      <td>2023-2024</td>\n",
       "      <td>DF</td>\n",
       "      <td>Clermont Foot</td>\n",
       "    </tr>\n",
       "    <tr>\n",
       "      <th>1</th>\n",
       "      <td>Salem M'bakata</td>\n",
       "      <td>CD</td>\n",
       "      <td>/en/players/0c75df2a/Salem-Mbakata</td>\n",
       "      <td>True</td>\n",
       "      <td>2018-2024</td>\n",
       "      <td>DF</td>\n",
       "      <td>Gaziantep FK, Sochaux, Aris</td>\n",
       "    </tr>\n",
       "    <tr>\n",
       "      <th>2</th>\n",
       "      <td>Tatenda M'balaka</td>\n",
       "      <td>MW</td>\n",
       "      <td>/en/players/f64c1f4b/Tatenda-Mbalaka</td>\n",
       "      <td>True</td>\n",
       "      <td>2023-2026</td>\n",
       "      <td>DF</td>\n",
       "      <td>Malawi</td>\n",
       "    </tr>\n",
       "    <tr>\n",
       "      <th>3</th>\n",
       "      <td>Modeste M'bami</td>\n",
       "      <td>CM</td>\n",
       "      <td>/en/players/82ec2963/Modeste-Mbami</td>\n",
       "      <td>False</td>\n",
       "      <td>2000-2016</td>\n",
       "      <td>MF</td>\n",
       "      <td>Marseille, Paris Saint-Germain, Sedan, Almería...</td>\n",
       "    </tr>\n",
       "    <tr>\n",
       "      <th>4</th>\n",
       "      <td>Bryan M'Bango</td>\n",
       "      <td>None</td>\n",
       "      <td>/en/players/db91d5d7/Bryan-MBango</td>\n",
       "      <td>False</td>\n",
       "      <td>2009-2010</td>\n",
       "      <td>None</td>\n",
       "      <td>None</td>\n",
       "    </tr>\n",
       "  </tbody>\n",
       "</table>\n",
       "</div>"
      ],
      "text/plain": [
       "               Name country_code_alpha2                                   url  \\\n",
       "0    Joshua M'Bahia                  CI    /en/players/f02067df/Joshua-MBahia   \n",
       "1    Salem M'bakata                  CD    /en/players/0c75df2a/Salem-Mbakata   \n",
       "2  Tatenda M'balaka                  MW  /en/players/f64c1f4b/Tatenda-Mbalaka   \n",
       "3    Modeste M'bami                  CM    /en/players/82ec2963/Modeste-Mbami   \n",
       "4     Bryan M'Bango                None     /en/players/db91d5d7/Bryan-MBango   \n",
       "\n",
       "   Active Years Played Position  \\\n",
       "0    True    2023-2024       DF   \n",
       "1    True    2018-2024       DF   \n",
       "2    True    2023-2026       DF   \n",
       "3   False    2000-2016       MF   \n",
       "4   False    2009-2010     None   \n",
       "\n",
       "                                        Clubs Played  \n",
       "0                                      Clermont Foot  \n",
       "1                        Gaziantep FK, Sochaux, Aris  \n",
       "2                                             Malawi  \n",
       "3  Marseille, Paris Saint-Germain, Sedan, Almería...  \n",
       "4                                               None  "
      ]
     },
     "execution_count": 53,
     "metadata": {},
     "output_type": "execute_result"
    }
   ],
   "source": [
    "df = get_player_by_part_of_name(\"mb\")\n",
    "df.head()"
   ]
  },
  {
   "cell_type": "markdown",
   "metadata": {},
   "source": [
    "Diacritics/accents in some player names make it difficult to match by default. For example, Kylian Mbappe"
   ]
  },
  {
   "cell_type": "code",
   "execution_count": 52,
   "metadata": {},
   "outputs": [
    {
     "data": {
      "text/html": [
       "<div>\n",
       "<style scoped>\n",
       "    .dataframe tbody tr th:only-of-type {\n",
       "        vertical-align: middle;\n",
       "    }\n",
       "\n",
       "    .dataframe tbody tr th {\n",
       "        vertical-align: top;\n",
       "    }\n",
       "\n",
       "    .dataframe thead th {\n",
       "        text-align: right;\n",
       "    }\n",
       "</style>\n",
       "<table border=\"1\" class=\"dataframe\">\n",
       "  <thead>\n",
       "    <tr style=\"text-align: right;\">\n",
       "      <th></th>\n",
       "      <th>Name</th>\n",
       "      <th>country_code_alpha2</th>\n",
       "      <th>url</th>\n",
       "      <th>Active</th>\n",
       "      <th>Years Played</th>\n",
       "      <th>Position</th>\n",
       "      <th>Clubs Played</th>\n",
       "    </tr>\n",
       "  </thead>\n",
       "  <tbody>\n",
       "    <tr>\n",
       "      <th>88</th>\n",
       "      <td>Kylian Mbappé</td>\n",
       "      <td>FR</td>\n",
       "      <td>/en/players/42fd9c7f/Kylian-Mbappe</td>\n",
       "      <td>True</td>\n",
       "      <td>2015-2024</td>\n",
       "      <td>FW,MF</td>\n",
       "      <td>Paris Saint-Germain, France, Monaco</td>\n",
       "    </tr>\n",
       "  </tbody>\n",
       "</table>\n",
       "</div>"
      ],
      "text/plain": [
       "             Name country_code_alpha2                                 url  \\\n",
       "88  Kylian Mbappé                  FR  /en/players/42fd9c7f/Kylian-Mbappe   \n",
       "\n",
       "    Active Years Played Position                         Clubs Played  \n",
       "88    True    2015-2024    FW,MF  Paris Saint-Germain, France, Monaco  "
      ]
     },
     "execution_count": 52,
     "metadata": {},
     "output_type": "execute_result"
    }
   ],
   "source": [
    "# get mbappe's data based on regex\n",
    "df[df['Name'].str.contains('K.+ Mbapp.', case=False, regex=True)]"
   ]
  }
 ],
 "metadata": {
  "kernelspec": {
   "display_name": "Python 3.9.7 ('juristech')",
   "language": "python",
   "name": "python3"
  },
  "language_info": {
   "codemirror_mode": {
    "name": "ipython",
    "version": 3
   },
   "file_extension": ".py",
   "mimetype": "text/x-python",
   "name": "python",
   "nbconvert_exporter": "python",
   "pygments_lexer": "ipython3",
   "version": "3.11.0"
  },
  "orig_nbformat": 4,
  "vscode": {
   "interpreter": {
    "hash": "00afeecbce882a3f5b5eeb35b53a684a17946fd358028a5584eb4632fd56a194"
   }
  }
 },
 "nbformat": 4,
 "nbformat_minor": 2
}
